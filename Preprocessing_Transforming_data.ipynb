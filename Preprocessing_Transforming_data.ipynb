{
  "cells": [
    {
      "cell_type": "markdown",
      "metadata": {
        "id": "HaZHWP3JVlHM"
      },
      "source": [
        "# Transforming the data"
      ]
    },
    {
      "cell_type": "code",
      "execution_count": null,
      "metadata": {
        "id": "O5DyMx4uR1Tx"
      },
      "outputs": [],
      "source": [
        "# importing essential packages\n",
        "import pandas as pd\n",
        "import math"
      ]
    },
    {
      "cell_type": "markdown",
      "metadata": {
        "id": "IoI5X4B8K853"
      },
      "source": [
        "# 1. Método `.map()` \n",
        "\n",
        "- O método .map() é uma ótima ferramenta quando se trata de processar e transformar iteráveis de valores numéricos\n",
        "- é uma maneira conveniente de realizar transformações elementares e outras operações relacionadas à limpeza de dados\n",
        "- este método em Series recebe um objeto de função e uma sequência de iteráveis (lista, tupla, dicionário, conjunto ou série) como argumentos\n",
        "- quaisquer funções internas que recebam um argumento e retornem um valor podem ser usadas com .map()\n",
        "- retorna um iterador (não se preocupe com esse conceito por enquanto)\n",
        "- os valores resultantes (um iterador) podem ser passados para a função list() ou a função set() para criar uma lista ou um conjunto\n",
        "\n",
        "Exemplo:\n",
        "\n",
        "`map(function, iterable)`\n",
        "\n",
        "To extract the result we can use for example: <break> \n",
        "\n",
        "`list(map(function, iterable))`\n",
        "\n",
        "or \n",
        "\n",
        "`set(map(function, iterable))`"
      ]
    },
    {
      "cell_type": "markdown",
      "metadata": {
        "id": "fUbZ8OpSNnuD"
      },
      "source": [
        "### Example 1.1 - Example using For Loops"
      ]
    },
    {
      "cell_type": "code",
      "execution_count": null,
      "metadata": {
        "id": "QSyAI1VqNv_K"
      },
      "outputs": [],
      "source": [
        "# Run this code\n",
        "our_list = ['This', 'is', 'the', 'first', 'example']"
      ]
    },
    {
      "cell_type": "code",
      "execution_count": null,
      "metadata": {
        "id": "d34naGboLAqB",
        "colab": {
          "base_uri": "https://localhost:8080/"
        },
        "outputId": "323ae2d0-a9ee-43ce-edad-3ed6949be5b6"
      },
      "outputs": [
        {
          "output_type": "stream",
          "name": "stdout",
          "text": [
            "[4, 2, 3, 5, 7]\n"
          ]
        }
      ],
      "source": [
        "#Step 1: intialize an empty list \"result_loop\" that will store our results later\n",
        "#Step 2: get the length of each variable in the list \"our_list\"\n",
        "#Step 3: append the result to the list \"result_loop\"\n",
        "#Step 4: print out the result\n",
        "\n",
        "result_loop = []\n",
        "\n",
        "for word in our_list:\n",
        "    result_loop.append(len(word))\n",
        "\n",
        "print(result_loop)"
      ]
    },
    {
      "cell_type": "markdown",
      "metadata": {
        "id": "399GBuSnOd6M"
      },
      "source": [
        "### Example 1.2 - Example using .map() function"
      ]
    },
    {
      "cell_type": "code",
      "execution_count": null,
      "metadata": {
        "id": "XIK1GhBTOsmO"
      },
      "outputs": [],
      "source": [
        "# Run this code\n",
        "our_list = ['This', 'is', 'the', 'first', 'example']"
      ]
    },
    {
      "cell_type": "code",
      "execution_count": null,
      "metadata": {
        "id": "p2JBFgCVMiiP",
        "colab": {
          "base_uri": "https://localhost:8080/"
        },
        "outputId": "a34536b5-5054-40e7-af29-edab890c311f"
      },
      "outputs": [
        {
          "output_type": "stream",
          "name": "stdout",
          "text": [
            "[4, 2, 3, 5, 7]\n"
          ]
        }
      ],
      "source": [
        "# Step 1: Use .map() method to get the length of the words in our_list\n",
        "# Step 2: Pass .list() function to create a list of resulting values\n",
        "# Step 3: Assign the result to the variable name \"result\" print it on the screen\n",
        "\n",
        "result_map = list(map(len, our_list))\n",
        "print(result_map)"
      ]
    },
    {
      "cell_type": "markdown",
      "metadata": {
        "id": "mBFkzjR2NHbI"
      },
      "source": [
        "In the above example, `.map()` method iterates over the our_list, applies function on each element and return the length of the strings as a new list."
      ]
    },
    {
      "cell_type": "markdown",
      "metadata": {
        "id": "6zu5YGGzPy9j"
      },
      "source": [
        "Which one do you think is neater and shorter?\n",
        "\n",
        "```python\n",
        "result_loop = []\n",
        "\n",
        "for word in our_list:\n",
        "  result_loops.append(len(word))\n",
        "\n",
        "print(result_loop)\n",
        "```\n",
        "vs. \n",
        "\n",
        "```python\n",
        "result_map = list(map(len, our_list))\n",
        "print(result_map)\n",
        "```\n",
        "\n",
        "In the programming world, it is cleaner and much more concise and sophisticated to use ``map()`` instead of for loops. On top of that, with `map()` you can guarantee that the original sequence won't be acccidentally mutated or changed. As `map()` always returns a sequence of the results and leads to fewer errors in code. \n",
        "\n",
        "Feel free to check out [this](https://stackoverflow.com/questions/1975250/when-should-i-use-a-map-instead-of-a-for-loop#:~:text=4%20Answers&text=map%20is%20useful%20when%20you,loop%20and%20constructing%20a%20list.) on stackoverflow, where the advantages of using map over for-loop is discussed.\n",
        "\n",
        "\n"
      ]
    },
    {
      "cell_type": "markdown",
      "metadata": {
        "id": "hEUOIZQ_NMSr"
      },
      "source": [
        "### Task 1\n",
        "Now, let's create function `triple` and pandas Series `numbers` that will be our iterable."
      ]
    },
    {
      "cell_type": "code",
      "execution_count": null,
      "metadata": {
        "id": "qd53ilcINT5c"
      },
      "outputs": [],
      "source": [
        "# Run this code \n",
        "def triple(x):\n",
        "    return x * 3"
      ]
    },
    {
      "cell_type": "code",
      "execution_count": null,
      "metadata": {
        "id": "O5vzaI7mNVgi"
      },
      "outputs": [],
      "source": [
        "# Run this code\n",
        "import pandas as pd\n",
        "numbers = pd.Series([15, 4, 8, 45, 36, 7])"
      ]
    },
    {
      "cell_type": "code",
      "execution_count": null,
      "metadata": {
        "id": "NnQoeGVwNW0v",
        "colab": {
          "base_uri": "https://localhost:8080/"
        },
        "outputId": "c22fead0-706d-4735-8710-92d60bc4a621"
      },
      "outputs": [
        {
          "output_type": "execute_result",
          "data": {
            "text/plain": [
              "[45, 12, 24, 135, 108, 21]"
            ]
          },
          "metadata": {},
          "execution_count": 13
        }
      ],
      "source": [
        "# TASK 1 >>>> Apply .map() method with function triple on pandas Series 'numbers' and store it in variable result_2 \n",
        "#             Print the result_2 (the result should by numbers multiply by 3)\n",
        "#             Think about the 3 different steps performed in the Example 1\n",
        "\n",
        "### Start your code below ###\n",
        "numbers = pd.Series([15, 4, 8, 45, 36, 7])\n",
        "def triple(x):\n",
        "    return x * 3\n",
        "result_2 = list(map(triple, numbers))\n",
        "result_2"
      ]
    },
    {
      "cell_type": "markdown",
      "metadata": {
        "id": "xRhso3OihtKh"
      },
      "source": [
        "# 2. .filter() method\n",
        "\n",
        "- similar to .map(), but instead of any function, .filter() takes a Boolean-valued function (a function that returns True or False based on the input data) instead of any built-in functions and a sequence of iterables (list, tuple, dictionary, set, or Series) as arugments\n",
        "- returns the items of the intput data which the Boolean-valued function returns `True`\n",
        "- the Boolean-valued function can be used-defined function\n"
      ]
    },
    {
      "cell_type": "markdown",
      "metadata": {
        "id": "8RBmqk8Nhzky"
      },
      "source": [
        "Imagine there is a list with positive and negative numbers"
      ]
    },
    {
      "cell_type": "code",
      "execution_count": null,
      "metadata": {
        "id": "1FVY5AzGhwR8"
      },
      "outputs": [],
      "source": [
        "# Run this code\n",
        "list_mixed = [-1,0,2,24,-42,-5,30,99]"
      ]
    },
    {
      "cell_type": "code",
      "execution_count": null,
      "metadata": {
        "id": "53f6irOGiNTy"
      },
      "outputs": [],
      "source": [
        "# Run this code\n",
        "def criteria(x): \n",
        "    return x >= 0"
      ]
    },
    {
      "cell_type": "markdown",
      "metadata": {
        "id": "4VddQZIFrhj_"
      },
      "source": [
        "With the help of filter and our own user-defined function, we can filter out the negative values and be left with only positive values."
      ]
    },
    {
      "cell_type": "code",
      "execution_count": null,
      "metadata": {
        "id": "Wn6nO9FIiGMn",
        "colab": {
          "base_uri": "https://localhost:8080/"
        },
        "outputId": "42135c93-b0d7-4b2b-921b-6873c39fe57e"
      },
      "outputs": [
        {
          "output_type": "stream",
          "name": "stdout",
          "text": [
            "[0, 2, 24, 30, 99]\n"
          ]
        }
      ],
      "source": [
        "list_positive = list(filter(criteria, list_mixed))\n",
        "print(list_positive)"
      ]
    },
    {
      "cell_type": "code",
      "source": [
        "def negative(x):\n",
        "    return x < 0\n",
        "list_negative = list(filter(negative, list_mixed))\n",
        "print(list_negative)"
      ],
      "metadata": {
        "colab": {
          "base_uri": "https://localhost:8080/"
        },
        "id": "kng_555agX7R",
        "outputId": "9e1a5b1b-d3eb-4bc4-b9de-6a9f0824ccbf"
      },
      "execution_count": null,
      "outputs": [
        {
          "output_type": "stream",
          "name": "stdout",
          "text": [
            "[-1, -42, -5]\n"
          ]
        }
      ]
    },
    {
      "cell_type": "markdown",
      "metadata": {
        "id": "6E3BXMuFRH12"
      },
      "source": [
        "# 3. `.apply()` method\n",
        "\n",
        "- this method applies a function along an axis of the DataFrame $^{1}$ \n",
        "- it also works elementwise but is suited to more complex functions and operations\n",
        "- it accepts user-defined function that applies a transformation/aggregation on a DataFrame (or Series) as well\n",
        "\n",
        "You can find a nice comparison of `.map()` and `.apply()` methods and when to use them in [this article on stackoverflow](https://stackoverflow.com/questions/19798153/difference-between-map-applymap-and-apply-methods-in-pandas) "
      ]
    },
    {
      "cell_type": "markdown",
      "metadata": {
        "id": "mXy9mJn2Ri7R"
      },
      "source": [
        "### Example 3.1"
      ]
    },
    {
      "cell_type": "code",
      "execution_count": null,
      "metadata": {
        "id": "WQ4P8h2wRJoj",
        "colab": {
          "base_uri": "https://localhost:8080/"
        },
        "outputId": "6df20d19-78b2-437a-9545-5e5fec1703db"
      },
      "outputs": [
        {
          "output_type": "stream",
          "name": "stdout",
          "text": [
            "   student_id first_name  age   country  score\n",
            "0           1     Robert   30  Slovakia     26\n",
            "1           2       Jana   29    Sweden     27\n",
            "2           3     Martin   31    Sweden     26\n",
            "3           4   Kristina   26   Germany     30\n",
            "4           5      Peter   33   Austria     22\n",
            "5           6     Nikola   25       USA     23\n",
            "6           7     Renato   35    Brazil     26\n"
          ]
        }
      ],
      "source": [
        "# Run this code\n",
        "students = [(1, 'Robert', 30, 'Slovakia', 26),\n",
        "           (2, 'Jana', 29, 'Sweden' , 27),\n",
        "           (3, 'Martin', 31, 'Sweden', 26),\n",
        "           (4, 'Kristina', 26,'Germany' , 30),\n",
        "           (5, 'Peter', 33, 'Austria' , 22),\n",
        "           (6, 'Nikola', 25, 'USA', 23),\n",
        "           (7, 'Renato', 35, 'Brazil', 26)]\n",
        "\n",
        "students_1 = pd.DataFrame(students, columns= ['student_id', 'first_name', 'age', 'country', 'score'])\n",
        "print(students_1)"
      ]
    },
    {
      "cell_type": "code",
      "execution_count": null,
      "metadata": {
        "id": "kpUwG-U4RhCl",
        "colab": {
          "base_uri": "https://localhost:8080/",
          "height": 36
        },
        "outputId": "28856943-41f4-45f2-dd51-03a6d27edd17"
      },
      "outputs": [
        {
          "output_type": "execute_result",
          "data": {
            "text/plain": [
              "'Pass'"
            ],
            "application/vnd.google.colaboratory.intrinsic+json": {
              "type": "string"
            }
          },
          "metadata": {},
          "execution_count": 22
        }
      ],
      "source": [
        "# Run this code to create a regular function\n",
        "\n",
        "def score_func(x): \n",
        "    if x < 25: \n",
        "        return \"Retake\" \n",
        "    else: \n",
        "        return \"Pass\"\n",
        "\n",
        "score_func(26)"
      ]
    },
    {
      "cell_type": "code",
      "execution_count": null,
      "metadata": {
        "id": "drgm_CYwRyat",
        "colab": {
          "base_uri": "https://localhost:8080/"
        },
        "outputId": "cffac0c8-b9f7-432e-ffc3-9c797a715264"
      },
      "outputs": [
        {
          "output_type": "stream",
          "name": "stdout",
          "text": [
            "   student_id first_name  age   country  score  result\n",
            "0           1     Robert   30  Slovakia     26    Pass\n",
            "1           2       Jana   29    Sweden     27    Pass\n",
            "2           3     Martin   31    Sweden     26    Pass\n",
            "3           4   Kristina   26   Germany     30    Pass\n",
            "4           5      Peter   33   Austria     22  Retake\n",
            "5           6     Nikola   25       USA     23  Retake\n",
            "6           7     Renato   35    Brazil     26    Pass\n"
          ]
        }
      ],
      "source": [
        "# Use .apply() along with score_func that \n",
        "students_1['result'] = students_1.score.apply(score_func)\n",
        "print(students_1)"
      ]
    },
    {
      "cell_type": "markdown",
      "metadata": {
        "id": "4bU-g6BcWOEL"
      },
      "source": [
        "### Example 4.0\n",
        "\n",
        "As we already know, regular functions are created using `def` keyword. These type of functions can have any number of arguments and expressions."
      ]
    },
    {
      "cell_type": "code",
      "execution_count": null,
      "metadata": {
        "id": "lfnDZw_3Sc0n"
      },
      "outputs": [],
      "source": [
        "# Example of regular function\n",
        "def multi_add(x):\n",
        "    return x * 2 + 5"
      ]
    },
    {
      "cell_type": "code",
      "execution_count": null,
      "metadata": {
        "id": "VYJO-r-NSelU",
        "colab": {
          "base_uri": "https://localhost:8080/"
        },
        "outputId": "02ee12b7-f8fe-40fa-edc5-bd8a3fb6b9b6"
      },
      "outputs": [
        {
          "output_type": "stream",
          "name": "stdout",
          "text": [
            "15\n"
          ]
        }
      ],
      "source": [
        "result_1 = multi_add(5)\n",
        "print(result_1)"
      ]
    },
    {
      "cell_type": "markdown",
      "metadata": {
        "id": "2-ycOiYyS5vZ"
      },
      "source": [
        "# 4. Lambda Function\n",
        "- an anonymous function (it means it can be defined without a name)\n",
        "- the def keyword is not necessary with a lambda function\n",
        "- lambda functions can have any number of parameters, but the function body can only **contain one expression** (that means multiple statements are not allowed in the body of lambda function) = it is used for *`one-line expressions`*\n",
        "- it returns a function object which can be assigned to variable\n",
        "\n",
        "General syntax: `lambda x: x`\n",
        "\n",
        "\n",
        "\n",
        "\n",
        "### Example 4.1"
      ]
    },
    {
      "cell_type": "code",
      "execution_count": null,
      "metadata": {
        "id": "Med1sy9hTSqJ",
        "colab": {
          "base_uri": "https://localhost:8080/"
        },
        "outputId": "9b259c6f-b6d5-4088-f16f-6b10874b90b9"
      },
      "outputs": [
        {
          "output_type": "stream",
          "name": "stdout",
          "text": [
            "15\n"
          ]
        }
      ],
      "source": [
        "our_lambda = lambda x: x * 2 + 5\n",
        "print(our_lambda(5))"
      ]
    },
    {
      "cell_type": "markdown",
      "metadata": {
        "id": "OEBiP0tvTZEH"
      },
      "source": [
        "This simple lambda function takes an input `x` (in our case number 5), multiply it by `2` and add `5`. <br>\n",
        "\n",
        "Lambda functions are commonly used along `.apply()` method and can be really useful. <br>\n",
        "\n",
        "### Example 4.2\n",
        "\n",
        "Imagine the scores of students above have not been correctly recorded and we need to multiply them by 10. \n",
        "\n",
        "Use lambda function along with `apply()` and assign it to the specific column of the dataset ('score'). "
      ]
    },
    {
      "cell_type": "code",
      "execution_count": null,
      "metadata": {
        "id": "5Bi9lINmTp0k",
        "colab": {
          "base_uri": "https://localhost:8080/"
        },
        "outputId": "68d8f8c2-ab54-45ae-98e3-5f5c0d8863a0"
      },
      "outputs": [
        {
          "output_type": "stream",
          "name": "stdout",
          "text": [
            "   student_id first_name  age   country  score  result\n",
            "0           1     Robert   30  Slovakia    260    Pass\n",
            "1           2       Jana   29    Sweden    270    Pass\n",
            "2           3     Martin   31    Sweden    260    Pass\n",
            "3           4   Kristina   26   Germany    300    Pass\n",
            "4           5      Peter   33   Austria    220  Retake\n",
            "5           6     Nikola   25       USA    230  Retake\n",
            "6           7     Renato   35    Brazil    260    Pass\n"
          ]
        }
      ],
      "source": [
        "students_1.score = students_1.score.apply(lambda x: x * 10)\n",
        "print(students_1)"
      ]
    },
    {
      "cell_type": "markdown",
      "metadata": {
        "id": "ydfml2X3ULGn"
      },
      "source": [
        "### Task 2"
      ]
    },
    {
      "cell_type": "code",
      "execution_count": null,
      "metadata": {
        "id": "LPJ1EfEXUJra",
        "colab": {
          "base_uri": "https://localhost:8080/"
        },
        "outputId": "69906058-687c-4df1-a9da-4b323078b5a2"
      },
      "outputs": [
        {
          "output_type": "stream",
          "name": "stdout",
          "text": [
            "0    SLOVAKIA\n",
            "1      SWEDEN\n",
            "2      SWEDEN\n",
            "3     GERMANY\n",
            "4     AUSTRIA\n",
            "5         USA\n",
            "6      BRAZIL\n",
            "Name: country, dtype: object\n"
          ]
        }
      ],
      "source": [
        "# TASK 2 >>>> Use .apply() method on column 'country' along with lambda to make words uppercase \n",
        "#             Do not forget assign it to this column\n",
        "\n",
        "### Start your code below ###\n",
        "country = students_1['country']\n",
        "country_upper = country.apply(lambda x: x.upper())\n",
        "print(country_upper)"
      ]
    },
    {
      "cell_type": "markdown",
      "metadata": {
        "id": "vZXur84bVITy"
      },
      "source": [
        "We can use lambda function to simplify Example 3.1 like this:"
      ]
    },
    {
      "cell_type": "code",
      "execution_count": null,
      "metadata": {
        "id": "JPro1vVzUu4k"
      },
      "outputs": [],
      "source": [
        "# Run this code\n",
        "students = [(1, 'Robert', 30, 'Slovakia', 26),\n",
        "           (2, 'Jana', 29, 'Sweden' , 27),\n",
        "           (3, 'Martin', 31, 'Sweden', 26),\n",
        "           (4, 'Kristina', 26,'Germany' , 30),\n",
        "           (5, 'Peter', 33, 'Austria' , 22),\n",
        "           (6, 'Nikola', 25, 'USA', 23),\n",
        "           (7, 'Renato', 35, 'Brazil', 26)]\n",
        "\n",
        "students_1 = pd.DataFrame(students, columns= ['student_id', 'first_name', 'age', 'country', 'score'])"
      ]
    },
    {
      "cell_type": "code",
      "execution_count": null,
      "metadata": {
        "id": "T3ZpBBXdVT6j",
        "colab": {
          "base_uri": "https://localhost:8080/"
        },
        "outputId": "0f2d921d-435c-49e3-b120-a10669f8b368"
      },
      "outputs": [
        {
          "output_type": "stream",
          "name": "stdout",
          "text": [
            "   student_id first_name                  age   country  score  result\n",
            "0           1     Robert         Menor que 30  Slovakia     26    Pass\n",
            "1           2       Jana         Menor que 30    Sweden     27    Pass\n",
            "2           3     Martin         Menor que 30    Sweden     26    Pass\n",
            "3           4   Kristina  Maior ou igual a 30   Germany     30    Pass\n",
            "4           5      Peter         Menor que 30   Austria     22  Retake\n",
            "5           6     Nikola         Menor que 30       USA     23  Retake\n",
            "6           7     Renato         Menor que 30    Brazil     26    Pass\n",
            "   student_id first_name                  age   country  score  result\n",
            "0           1     Robert         Menor que 30  Slovakia     26    Pass\n",
            "1           2       Jana         Menor que 30    Sweden     27    Pass\n",
            "2           3     Martin         Menor que 30    Sweden     26    Pass\n",
            "3           4   Kristina  Maior ou igual a 30   Germany     30    Pass\n",
            "4           5      Peter         Menor que 30   Austria     22  Retake\n",
            "5           6     Nikola         Menor que 30       USA     23  Retake\n",
            "6           7     Renato         Menor que 30    Brazil     26    Pass\n"
          ]
        }
      ],
      "source": [
        "# A Lambda function is used instead of the custom defined function \"score_func\"\n",
        "\n",
        "students_1['result'] = students_1.score.apply(lambda x: \"Pass\" if (x > 25) else \"Retake\")\n",
        "print(students_1)\n",
        "\n",
        "\n",
        "students_1['age'] = students_1.score.apply(lambda x: \"Menor que 30\" if (x < 30) else \"Maior ou igual a 30\")\n",
        "print(students_1)"
      ]
    },
    {
      "cell_type": "markdown",
      "metadata": {
        "id": "xZwvd0n5tboh"
      },
      "source": [
        "Do you know we can combine `.map()` and `.filter()` methods together? Since `.filter()` returns a selected iterable after the criteria, the output of `.filter()` can be our input for the `.map()` method.\n",
        "\n",
        "In order to avoid a negative number as an argument for `math.sqrt()` which will cause us a `ValueError`, we want to filter out the negative numbers before we apply the `math.sqrt()` method.\n"
      ]
    },
    {
      "cell_type": "code",
      "execution_count": null,
      "metadata": {
        "id": "0PwkuDWxt6_u"
      },
      "outputs": [],
      "source": [
        "# Run this code\n",
        "list_mixed = [-1,0,2,24,-42,-5,30,99]"
      ]
    },
    {
      "cell_type": "code",
      "execution_count": null,
      "metadata": {
        "id": "mmT-_iN0uBxk"
      },
      "outputs": [],
      "source": [
        "# Run this code\n",
        "def criteria(x): \n",
        "    return x >= 0"
      ]
    },
    {
      "cell_type": "code",
      "execution_count": null,
      "metadata": {
        "id": "hT1Cbjx9uD-k",
        "colab": {
          "base_uri": "https://localhost:8080/"
        },
        "outputId": "a324921f-db19-44b7-9661-37084ba64ed8"
      },
      "outputs": [
        {
          "output_type": "stream",
          "name": "stdout",
          "text": [
            "[0.0, 1.4142135623730951, 4.898979485566356, 5.477225575051661, 9.9498743710662]\n"
          ]
        }
      ],
      "source": [
        "import math\n",
        "list_sqrt = list(map(math.sqrt, filter(criteria, list_mixed)))\n",
        "print(list_sqrt)"
      ]
    },
    {
      "cell_type": "markdown",
      "metadata": {
        "id": "_cUVPOVZu9ym"
      },
      "source": [
        "### Optional: Task 3"
      ]
    },
    {
      "cell_type": "code",
      "execution_count": null,
      "metadata": {
        "id": "X9NBhdQQvLvV",
        "colab": {
          "base_uri": "https://localhost:8080/"
        },
        "outputId": "2de0dcfc-c300-4d8c-e076-af25c608ddf3"
      },
      "outputs": [
        {
          "output_type": "stream",
          "name": "stdout",
          "text": [
            "[5, 10]\n"
          ]
        }
      ],
      "source": [
        "# TASK 3 >>>> With the help of .map() and .filter(),\n",
        "#             round up the number that is bigger than 5 from the list \"list_sqrt\" to the whole digit.\n",
        "#             To round up the number, you can use round().\n",
        "#             Don't forget to write your user-defined function as your criteria to filter out the \"not desirable\" numbers\n",
        "\n",
        "\n",
        "### Start your code below ###\n",
        "def criteria(x): \n",
        "    return x >= 5\n",
        "\n",
        "list_round = list(map(round, filter(criteria, list_sqrt)))\n",
        "print(list_round)"
      ]
    },
    {
      "cell_type": "markdown",
      "metadata": {
        "id": "mXQvyHyZZ5xf"
      },
      "source": [
        "# References\n",
        "\n",
        "$^{1}$ pandas. pandas.DataFrame.apply. [ONLINE] Available at: https://pandas.pydata.org/pandas-docs/stable/reference/api/pandas.DataFrame.apply.html#pandas-dataframe-apply. [Accessed 14 September 2020].\n",
        "\n",
        "Stackoverflow. Difference between map, applymap and apply methods in Pandas. [ONLINE] Available at: https://stackoverflow.com/questions/19798153/difference-between-map-applymap-and-apply-methods-in-pandas. [Accessed 14 September 2020].\n",
        "\n",
        "Material adapted for RBI internal purposes with full permissions from original authors. [Source](https://github.com/zatkopatrik/authentic-data-science) "
      ]
    }
  ],
  "metadata": {
    "colab": {
      "collapsed_sections": [],
      "name": "Preprocessing_Transforming_data.ipynb",
      "provenance": []
    },
    "kernelspec": {
      "display_name": "Python 3 (ipykernel)",
      "language": "python",
      "name": "python3"
    },
    "language_info": {
      "codemirror_mode": {
        "name": "ipython",
        "version": 3
      },
      "file_extension": ".py",
      "mimetype": "text/x-python",
      "name": "python",
      "nbconvert_exporter": "python",
      "pygments_lexer": "ipython3",
      "version": "3.7.12"
    }
  },
  "nbformat": 4,
  "nbformat_minor": 0
}